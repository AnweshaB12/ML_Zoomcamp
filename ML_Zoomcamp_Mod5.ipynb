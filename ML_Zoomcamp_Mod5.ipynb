{
 "cells": [
  {
   "attachments": {},
   "cell_type": "markdown",
   "id": "0145aad7",
   "metadata": {},
   "source": [
    "## Models\n",
    "We've prepared a dictionary vectorizer and a model.\n",
    "\n",
    "They were trained (roughly) using this code:\n",
    "\n",
    "features = ['job', 'duration', 'poutcome']\n",
    "dicts = df[features].to_dict(orient='records')\n",
    "\n",
    "dv = DictVectorizer(sparse=False)\n",
    "X = dv.fit_transform(dicts)\n",
    "\n",
    "model = LogisticRegression().fit(X, y)\n",
    "Note: You don't need to train the model. This code is just for your reference.\n",
    "\n",
    "And then saved with Pickle. Download them:\n",
    "\n",
    "DictVectorizer\n",
    "LogisticRegression\n"
   ]
  },
  {
   "attachments": {},
   "cell_type": "markdown",
   "id": "9a392b5f",
   "metadata": {},
   "source": [
    "### Question 3\n",
    "Let's use these models!\n",
    "\n",
    "Write a script for loading these models with pickle\n",
    "Score this client:\n",
    "{\"job\": \"management\", \"duration\": 400, \"poutcome\": \"success\"}\n",
    "\n",
    "What's the probability that this client will get a subscription?\n",
    "\n",
    "- 0.359\n",
    "- 0.559\n",
    "- 0.759\n",
    "- 0.959\n"
   ]
  },
  {
   "cell_type": "code",
   "execution_count": 16,
   "id": "e2f17eff-9cf1-4801-bebd-5f1498223cc5",
   "metadata": {},
   "outputs": [],
   "source": [
    "import pickle"
   ]
  },
  {
   "cell_type": "code",
   "execution_count": 7,
   "id": "0574e85e",
   "metadata": {},
   "outputs": [],
   "source": [
    "model_file = 'model1.bin'\n",
    "dv_file = 'dv.bin'"
   ]
  },
  {
   "cell_type": "code",
   "execution_count": 8,
   "id": "9c474248-269b-4fb5-b7e5-d3d8770a5c43",
   "metadata": {},
   "outputs": [],
   "source": [
    "with open(model_file, 'rb') as f_in:\n",
    "     model = pickle.load(f_in)\n",
    "\n",
    "with open(dv_file, 'rb') as f_in:\n",
    "     dv = pickle.load(f_in)"
   ]
  },
  {
   "cell_type": "code",
   "execution_count": 9,
   "id": "bf6aa33d",
   "metadata": {},
   "outputs": [
    {
     "data": {
      "text/plain": [
       "(DictVectorizer(sparse=False), LogisticRegression(max_iter=250))"
      ]
     },
     "execution_count": 9,
     "metadata": {},
     "output_type": "execute_result"
    }
   ],
   "source": [
    "dv, model"
   ]
  },
  {
   "cell_type": "code",
   "execution_count": 10,
   "id": "be544a12",
   "metadata": {},
   "outputs": [],
   "source": [
    "client = {\"job\": \"management\", \"duration\": 400, \"poutcome\": \"success\"}"
   ]
  },
  {
   "cell_type": "code",
   "execution_count": 11,
   "id": "bb87336f",
   "metadata": {},
   "outputs": [],
   "source": [
    "X = dv.transform([client])"
   ]
  },
  {
   "cell_type": "code",
   "execution_count": 13,
   "id": "b486cb3b",
   "metadata": {},
   "outputs": [],
   "source": [
    "subscribed = model.predict_proba(X)[:,1]"
   ]
  },
  {
   "cell_type": "code",
   "execution_count": 15,
   "id": "0b06ad53",
   "metadata": {},
   "outputs": [
    {
     "name": "stdout",
     "output_type": "stream",
     "text": [
      "The probability that this client will get a subscription is: [0.75909665]\n"
     ]
    }
   ],
   "source": [
    "print(f'The probability that this client will get a subscription is: {subscribed}')"
   ]
  },
  {
   "cell_type": "code",
   "execution_count": null,
   "id": "a24b0511",
   "metadata": {},
   "outputs": [],
   "source": []
  }
 ],
 "metadata": {
  "kernelspec": {
   "display_name": "zoomcamp-KXKM_EQB",
   "language": "python",
   "name": "python3"
  },
  "language_info": {
   "codemirror_mode": {
    "name": "ipython",
    "version": 3
   },
   "file_extension": ".py",
   "mimetype": "text/x-python",
   "name": "python",
   "nbconvert_exporter": "python",
   "pygments_lexer": "ipython3",
   "version": "3.11.10"
  }
 },
 "nbformat": 4,
 "nbformat_minor": 5
}
